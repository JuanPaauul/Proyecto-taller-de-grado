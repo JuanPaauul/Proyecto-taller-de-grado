{
 "cells": [
  {
   "cell_type": "code",
   "execution_count": 81,
   "metadata": {},
   "outputs": [],
   "source": [
    "import os\n",
    "import pandas as pd\n",
    "import re\n"
   ]
  },
  {
   "cell_type": "markdown",
   "metadata": {},
   "source": [
    "### Formato a txts\n",
    "Se tienen 3 tipos de nombres para los archivos que contienen los fragmentos extraidos de las declaraciones. Esos nombres son:\n",
    "- Declaracion\n",
    "- Declaracion - No\n",
    "- Extracto - Informe. Contiene declaraciones de mas de una personas y son obtenidas de informes policiales.\n",
    "### Limpieza de datos\n",
    "Lamentablemente algunas declaraciones tienen problemas en la impresion por lo cual algunas oraciones o lineas de texto estan cortadas, esto ocacionando que la aplicacion que transcribe las declaraciones escaneadas pierda efectividad. Es por esta razon que se procedera a reescribir esos fragmentos con error. Cabe aclarar que la mala impresion no es la unica ocacionante de fallas en el reconocimiento del texto por lo cual se ira revisando y listando lo casos en los cuales se debio realizar una transcripcion manual.\n",
    "- Caso 8. Se tuvieron bastantes problemas por la mala impresion, por ejemplo, se tenia texto como: `csie uiLmtu ncutu pusu en jeuiu ue uunt ue\tu nuius...` el cual significaba `Este ultimo hecho paso en fecha 24 de abril de 2023...`\n",
    "\n",
    "En general se tuvieron que hacer algunos cambios minimos de formato, donde se tiene como `P:` a la pregunta y la respuesta empieza con `- `.\n"
   ]
  },
  {
   "cell_type": "code",
   "execution_count": 99,
   "metadata": {},
   "outputs": [],
   "source": [
    "def get_sentences_from_file(file_name):\n",
    "  sentence_list = []\n",
    "  with open(file_name) as f:\n",
    "    lines = f.readlines()\n",
    "    for line in lines:\n",
    "      result = re.findall(r'\\b\\w+\\b|[/?¿!¡:.,()\\[\\]{}-]', line)\n",
    "      sentence_list.append(result)\n",
    "  return sentence_list\n",
    "\n",
    "def create_new_doc(file_name, lines):\n",
    "  with open(file_name, 'w') as f:\n",
    "    for line in lines:\n",
    "      for word in line:\n",
    "        f.write(f'{word}\\tO\\n')\n",
    "      f.write('\\n')\n",
    "\n",
    "sentence_list = get_sentences_from_file('./Caso 9/Declaracion.txt')\n",
    "create_new_doc('./Caso 9/Declaracion en formato.txt', sentence_list)"
   ]
  },
  {
   "cell_type": "code",
   "execution_count": 106,
   "metadata": {},
   "outputs": [],
   "source": [
    "declaraciones = ['./Caso 1', './Caso 2', './Caso 4', './Caso 5', './Caso 6', './Caso 8', './Caso 9']\n",
    "with open('declaraciones.txt', 'w') as declaracion_dataset:\n",
    "    for fname in declaraciones:\n",
    "        with open(f'{fname}/Declaracion en formato.txt') as infile:\n",
    "            for line in infile:\n",
    "                declaracion_dataset.write(line)"
   ]
  }
 ],
 "metadata": {
  "kernelspec": {
   "display_name": "ML-Azure",
   "language": "python",
   "name": "python3"
  },
  "language_info": {
   "codemirror_mode": {
    "name": "ipython",
    "version": 3
   },
   "file_extension": ".py",
   "mimetype": "text/x-python",
   "name": "python",
   "nbconvert_exporter": "python",
   "pygments_lexer": "ipython3",
   "version": "3.10.13"
  }
 },
 "nbformat": 4,
 "nbformat_minor": 2
}
